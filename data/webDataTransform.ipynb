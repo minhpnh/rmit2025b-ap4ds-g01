{
 "cells": [
  {
   "cell_type": "code",
   "execution_count": null,
   "id": "581c0811",
   "metadata": {},
   "outputs": [
    {
     "data": {
      "text/html": [
       "<div>\n",
       "<style scoped>\n",
       "    .dataframe tbody tr th:only-of-type {\n",
       "        vertical-align: middle;\n",
       "    }\n",
       "\n",
       "    .dataframe tbody tr th {\n",
       "        vertical-align: top;\n",
       "    }\n",
       "\n",
       "    .dataframe thead th {\n",
       "        text-align: right;\n",
       "    }\n",
       "</style>\n",
       "<table border=\"1\" class=\"dataframe\">\n",
       "  <thead>\n",
       "    <tr style=\"text-align: right;\">\n",
       "      <th></th>\n",
       "      <th>Clothing ID</th>\n",
       "      <th>Age</th>\n",
       "      <th>Title</th>\n",
       "      <th>Review Text</th>\n",
       "      <th>Rating</th>\n",
       "      <th>Recommended IND</th>\n",
       "      <th>Positive Feedback Count</th>\n",
       "      <th>Division Name</th>\n",
       "      <th>Department Name</th>\n",
       "      <th>Class Name</th>\n",
       "      <th>Clothes Title</th>\n",
       "      <th>Clothes Description</th>\n",
       "    </tr>\n",
       "  </thead>\n",
       "  <tbody>\n",
       "    <tr>\n",
       "      <th>0</th>\n",
       "      <td>1077</td>\n",
       "      <td>60</td>\n",
       "      <td>Some major design flaws</td>\n",
       "      <td>I had such high hopes for this dress and reall...</td>\n",
       "      <td>3</td>\n",
       "      <td>0</td>\n",
       "      <td>0</td>\n",
       "      <td>General</td>\n",
       "      <td>Dresses</td>\n",
       "      <td>Dresses</td>\n",
       "      <td>Elegant A-Line Dress</td>\n",
       "      <td>A classic A-line dress that flows gracefully, ...</td>\n",
       "    </tr>\n",
       "    <tr>\n",
       "      <th>1</th>\n",
       "      <td>1049</td>\n",
       "      <td>50</td>\n",
       "      <td>My favorite buy!</td>\n",
       "      <td>I love, love, love this jumpsuit. it's fun, fl...</td>\n",
       "      <td>5</td>\n",
       "      <td>1</td>\n",
       "      <td>0</td>\n",
       "      <td>General Petite</td>\n",
       "      <td>Bottoms</td>\n",
       "      <td>Pants</td>\n",
       "      <td>Petite High-Waisted Trousers</td>\n",
       "      <td>Chic, high-waisted trousers designed to elonga...</td>\n",
       "    </tr>\n",
       "    <tr>\n",
       "      <th>2</th>\n",
       "      <td>847</td>\n",
       "      <td>47</td>\n",
       "      <td>Flattering shirt</td>\n",
       "      <td>This shirt is very flattering to all due to th...</td>\n",
       "      <td>5</td>\n",
       "      <td>1</td>\n",
       "      <td>6</td>\n",
       "      <td>General</td>\n",
       "      <td>Tops</td>\n",
       "      <td>Blouses</td>\n",
       "      <td>Silk Button-Up Blouse</td>\n",
       "      <td>A luxurious silk blouse with a timeless button...</td>\n",
       "    </tr>\n",
       "    <tr>\n",
       "      <th>3</th>\n",
       "      <td>1080</td>\n",
       "      <td>49</td>\n",
       "      <td>Not for the very petite</td>\n",
       "      <td>I love tracy reese dresses, but this one is no...</td>\n",
       "      <td>2</td>\n",
       "      <td>0</td>\n",
       "      <td>4</td>\n",
       "      <td>General</td>\n",
       "      <td>Dresses</td>\n",
       "      <td>Dresses</td>\n",
       "      <td>Elegant A-Line Dress</td>\n",
       "      <td>A classic A-line dress that flows gracefully, ...</td>\n",
       "    </tr>\n",
       "    <tr>\n",
       "      <th>4</th>\n",
       "      <td>858</td>\n",
       "      <td>39</td>\n",
       "      <td>Cagrcoal shimmer fun</td>\n",
       "      <td>I aded this in my basket at hte last mintue to...</td>\n",
       "      <td>5</td>\n",
       "      <td>1</td>\n",
       "      <td>1</td>\n",
       "      <td>General Petite</td>\n",
       "      <td>Tops</td>\n",
       "      <td>Knits</td>\n",
       "      <td>Petite Cable Knit Sweater</td>\n",
       "      <td>A cozy cable knit sweater tailored specificall...</td>\n",
       "    </tr>\n",
       "  </tbody>\n",
       "</table>\n",
       "</div>"
      ],
      "text/plain": [
       "   Clothing ID  Age                    Title  \\\n",
       "0         1077   60  Some major design flaws   \n",
       "1         1049   50         My favorite buy!   \n",
       "2          847   47         Flattering shirt   \n",
       "3         1080   49  Not for the very petite   \n",
       "4          858   39     Cagrcoal shimmer fun   \n",
       "\n",
       "                                         Review Text  Rating  Recommended IND  \\\n",
       "0  I had such high hopes for this dress and reall...       3                0   \n",
       "1  I love, love, love this jumpsuit. it's fun, fl...       5                1   \n",
       "2  This shirt is very flattering to all due to th...       5                1   \n",
       "3  I love tracy reese dresses, but this one is no...       2                0   \n",
       "4  I aded this in my basket at hte last mintue to...       5                1   \n",
       "\n",
       "   Positive Feedback Count   Division Name Department Name Class Name  \\\n",
       "0                        0         General         Dresses    Dresses   \n",
       "1                        0  General Petite         Bottoms      Pants   \n",
       "2                        6         General            Tops    Blouses   \n",
       "3                        4         General         Dresses    Dresses   \n",
       "4                        1  General Petite            Tops      Knits   \n",
       "\n",
       "                  Clothes Title  \\\n",
       "0          Elegant A-Line Dress   \n",
       "1  Petite High-Waisted Trousers   \n",
       "2         Silk Button-Up Blouse   \n",
       "3          Elegant A-Line Dress   \n",
       "4     Petite Cable Knit Sweater   \n",
       "\n",
       "                                 Clothes Description  \n",
       "0  A classic A-line dress that flows gracefully, ...  \n",
       "1  Chic, high-waisted trousers designed to elonga...  \n",
       "2  A luxurious silk blouse with a timeless button...  \n",
       "3  A classic A-line dress that flows gracefully, ...  \n",
       "4  A cozy cable knit sweater tailored specificall...  "
      ]
     },
     "execution_count": 68,
     "metadata": {},
     "output_type": "execute_result"
    }
   ],
   "source": [
    "import pandas as pd\n",
    "\n",
    "file_path = '../data/assignment3_II.csv'\n",
    "data = pd.read_csv(file_path)\n",
    "\n",
    "data.head()"
   ]
  },
  {
   "cell_type": "code",
   "execution_count": 70,
   "id": "0882a16d",
   "metadata": {},
   "outputs": [],
   "source": [
    "df = pd.DataFrame(data)\n",
    "new_df = df[[\"Clothing ID\", \"Division Name\", \"Department Name\", \"Class Name\", \"Clothes Title\", \"Clothes Description\"]]"
   ]
  },
  {
   "cell_type": "code",
   "execution_count": 71,
   "id": "29d22120",
   "metadata": {},
   "outputs": [
    {
     "name": "stdout",
     "output_type": "stream",
     "text": [
      "<class 'pandas.core.frame.DataFrame'>\n",
      "RangeIndex: 19662 entries, 0 to 19661\n",
      "Data columns (total 6 columns):\n",
      " #   Column               Non-Null Count  Dtype \n",
      "---  ------               --------------  ----- \n",
      " 0   Clothing ID          19662 non-null  int64 \n",
      " 1   Division Name        19662 non-null  object\n",
      " 2   Department Name      19662 non-null  object\n",
      " 3   Class Name           19662 non-null  object\n",
      " 4   Clothes Title        19662 non-null  object\n",
      " 5   Clothes Description  19662 non-null  object\n",
      "dtypes: int64(1), object(5)\n",
      "memory usage: 921.8+ KB\n"
     ]
    }
   ],
   "source": [
    "new_df.info()"
   ]
  },
  {
   "cell_type": "code",
   "execution_count": 72,
   "id": "b95e8271",
   "metadata": {},
   "outputs": [
    {
     "data": {
      "text/html": [
       "<div>\n",
       "<style scoped>\n",
       "    .dataframe tbody tr th:only-of-type {\n",
       "        vertical-align: middle;\n",
       "    }\n",
       "\n",
       "    .dataframe tbody tr th {\n",
       "        vertical-align: top;\n",
       "    }\n",
       "\n",
       "    .dataframe thead th {\n",
       "        text-align: right;\n",
       "    }\n",
       "</style>\n",
       "<table border=\"1\" class=\"dataframe\">\n",
       "  <thead>\n",
       "    <tr style=\"text-align: right;\">\n",
       "      <th></th>\n",
       "      <th>Clothing ID</th>\n",
       "      <th>Division Name</th>\n",
       "      <th>Department Name</th>\n",
       "      <th>Class Name</th>\n",
       "      <th>Clothes Title</th>\n",
       "      <th>Clothes Description</th>\n",
       "    </tr>\n",
       "  </thead>\n",
       "  <tbody>\n",
       "    <tr>\n",
       "      <th>0</th>\n",
       "      <td>1077</td>\n",
       "      <td>General</td>\n",
       "      <td>Dresses</td>\n",
       "      <td>Dresses</td>\n",
       "      <td>Elegant A-Line Dress</td>\n",
       "      <td>A classic A-line dress that flows gracefully, ...</td>\n",
       "    </tr>\n",
       "    <tr>\n",
       "      <th>1</th>\n",
       "      <td>1049</td>\n",
       "      <td>General Petite</td>\n",
       "      <td>Bottoms</td>\n",
       "      <td>Pants</td>\n",
       "      <td>Petite High-Waisted Trousers</td>\n",
       "      <td>Chic, high-waisted trousers designed to elonga...</td>\n",
       "    </tr>\n",
       "    <tr>\n",
       "      <th>2</th>\n",
       "      <td>847</td>\n",
       "      <td>General</td>\n",
       "      <td>Tops</td>\n",
       "      <td>Blouses</td>\n",
       "      <td>Silk Button-Up Blouse</td>\n",
       "      <td>A luxurious silk blouse with a timeless button...</td>\n",
       "    </tr>\n",
       "    <tr>\n",
       "      <th>3</th>\n",
       "      <td>1080</td>\n",
       "      <td>General</td>\n",
       "      <td>Dresses</td>\n",
       "      <td>Dresses</td>\n",
       "      <td>Elegant A-Line Dress</td>\n",
       "      <td>A classic A-line dress that flows gracefully, ...</td>\n",
       "    </tr>\n",
       "    <tr>\n",
       "      <th>4</th>\n",
       "      <td>858</td>\n",
       "      <td>General Petite</td>\n",
       "      <td>Tops</td>\n",
       "      <td>Knits</td>\n",
       "      <td>Petite Cable Knit Sweater</td>\n",
       "      <td>A cozy cable knit sweater tailored specificall...</td>\n",
       "    </tr>\n",
       "  </tbody>\n",
       "</table>\n",
       "</div>"
      ],
      "text/plain": [
       "   Clothing ID   Division Name Department Name Class Name  \\\n",
       "0         1077         General         Dresses    Dresses   \n",
       "1         1049  General Petite         Bottoms      Pants   \n",
       "2          847         General            Tops    Blouses   \n",
       "3         1080         General         Dresses    Dresses   \n",
       "4          858  General Petite            Tops      Knits   \n",
       "\n",
       "                  Clothes Title  \\\n",
       "0          Elegant A-Line Dress   \n",
       "1  Petite High-Waisted Trousers   \n",
       "2         Silk Button-Up Blouse   \n",
       "3          Elegant A-Line Dress   \n",
       "4     Petite Cable Knit Sweater   \n",
       "\n",
       "                                 Clothes Description  \n",
       "0  A classic A-line dress that flows gracefully, ...  \n",
       "1  Chic, high-waisted trousers designed to elonga...  \n",
       "2  A luxurious silk blouse with a timeless button...  \n",
       "3  A classic A-line dress that flows gracefully, ...  \n",
       "4  A cozy cable knit sweater tailored specificall...  "
      ]
     },
     "execution_count": 72,
     "metadata": {},
     "output_type": "execute_result"
    }
   ],
   "source": [
    "new_df.head(5)"
   ]
  },
  {
   "cell_type": "code",
   "execution_count": 73,
   "id": "761d1349",
   "metadata": {},
   "outputs": [],
   "source": [
    "new_df = new_df.drop_duplicates()"
   ]
  },
  {
   "cell_type": "code",
   "execution_count": 74,
   "id": "8a9571d7",
   "metadata": {},
   "outputs": [
    {
     "name": "stdout",
     "output_type": "stream",
     "text": [
      "<class 'pandas.core.frame.DataFrame'>\n",
      "Index: 1290 entries, 0 to 19656\n",
      "Data columns (total 6 columns):\n",
      " #   Column               Non-Null Count  Dtype \n",
      "---  ------               --------------  ----- \n",
      " 0   Clothing ID          1290 non-null   int64 \n",
      " 1   Division Name        1290 non-null   object\n",
      " 2   Department Name      1290 non-null   object\n",
      " 3   Class Name           1290 non-null   object\n",
      " 4   Clothes Title        1290 non-null   object\n",
      " 5   Clothes Description  1290 non-null   object\n",
      "dtypes: int64(1), object(5)\n",
      "memory usage: 70.5+ KB\n"
     ]
    }
   ],
   "source": [
    "new_df.info()"
   ]
  },
  {
   "cell_type": "code",
   "execution_count": 75,
   "id": "bd56d3a5",
   "metadata": {},
   "outputs": [],
   "source": [
    "new_df = new_df.rename(columns={\n",
    "    \"Clothing ID\": \"id\",\n",
    "    \"Division Name\": \"division\",\n",
    "    \"Department Name\": \"department\",\n",
    "    \"Class Name\": \"class\",\n",
    "    \"Clothes Title\": \"title\",\n",
    "    \"Clothes Description\": \"description\"\n",
    "})"
   ]
  },
  {
   "cell_type": "code",
   "execution_count": 76,
   "id": "43c5cb80",
   "metadata": {},
   "outputs": [],
   "source": [
    "new_df = new_df.sort_values(by='id')"
   ]
  },
  {
   "cell_type": "code",
   "execution_count": 77,
   "id": "00bbcf29",
   "metadata": {},
   "outputs": [
    {
     "data": {
      "text/plain": [
       "Index(['id', 'division', 'department', 'class', 'title', 'description'], dtype='object')"
      ]
     },
     "execution_count": 77,
     "metadata": {},
     "output_type": "execute_result"
    }
   ],
   "source": [
    "new_df.columns"
   ]
  },
  {
   "cell_type": "code",
   "execution_count": 78,
   "id": "1831adca",
   "metadata": {},
   "outputs": [],
   "source": [
    "new_df.to_csv(f\"./webData.csv\", index=False)"
   ]
  }
 ],
 "metadata": {
  "kernelspec": {
   "display_name": "base",
   "language": "python",
   "name": "python3"
  },
  "language_info": {
   "codemirror_mode": {
    "name": "ipython",
    "version": 3
   },
   "file_extension": ".py",
   "mimetype": "text/x-python",
   "name": "python",
   "nbconvert_exporter": "python",
   "pygments_lexer": "ipython3",
   "version": "3.13.5"
  }
 },
 "nbformat": 4,
 "nbformat_minor": 5
}
